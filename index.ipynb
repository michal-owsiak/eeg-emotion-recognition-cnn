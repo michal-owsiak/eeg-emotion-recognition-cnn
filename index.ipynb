{
 "cells": [
  {
   "cell_type": "markdown",
   "id": "06b43b4a",
   "metadata": {},
   "source": [
    "<div style=\"text-align: center\">\n",
    "    <h1 style=\"font-size: 54px;\"><strong>Deep learning for EEG-based human emotion recognition:</strong></h1>\n",
    "</div>\n",
    "<div style=\"text-align: center\">\n",
    "    <h3 h1 style=\"font-size: 40px;\"><strong>4-class CNN classifier based on valence-arousal quadrants (DEAP Dataset)</strong></h3>\n",
    "</div>"
   ]
  },
  {
   "cell_type": "markdown",
   "id": "dc782fb4",
   "metadata": {},
   "source": [
    "# **Table of contents**"
   ]
  },
  {
   "cell_type": "markdown",
   "id": "8f1d8e95",
   "metadata": {},
   "source": [
    "# **1. Project overview**"
   ]
  },
  {
   "cell_type": "markdown",
   "id": "aeeae2dc",
   "metadata": {},
   "source": [
    "# **2. Imports**"
   ]
  },
  {
   "cell_type": "markdown",
   "id": "cf9b8acb",
   "metadata": {},
   "source": [
    "Let's first import all the necessary packages and libraries.\n"
   ]
  },
  {
   "cell_type": "code",
   "execution_count": 1,
   "id": "524d1c7c",
   "metadata": {},
   "outputs": [],
   "source": [
    "import gdown\n",
    "import pickle\n",
    "import pandas as pd"
   ]
  },
  {
   "cell_type": "markdown",
   "id": "9f245c24",
   "metadata": {},
   "source": [
    "# **3. Loading and previewing EEG data**"
   ]
  },
  {
   "cell_type": "markdown",
   "id": "342c987b",
   "metadata": {},
   "source": [
    "## **3.1. Data exploration**"
   ]
  },
  {
   "cell_type": "code",
   "execution_count": 3,
   "id": "fcb2f255",
   "metadata": {},
   "outputs": [
    {
     "name": "stderr",
     "output_type": "stream",
     "text": [
      "Downloading...\n",
      "From: https://drive.google.com/uc?id=1IoR5kEBG86NHZcfYVGMCOdqV8S7MdKnu\n",
      "To: c:\\dev\\EEG_emotion_recognition\\data_preprocessed_python\\s01.dat\n",
      "100%|██████████| 103M/103M [02:35<00:00, 664kB/s]  \n"
     ]
    },
    {
     "data": {
      "text/plain": [
       "'data_preprocessed_python/s01.dat'"
      ]
     },
     "execution_count": 3,
     "metadata": {},
     "output_type": "execute_result"
    }
   ],
   "source": [
    "file_id = '1IoR5kEBG86NHZcfYVGMCOdqV8S7MdKnu'\n",
    "gdown.download(f'https://drive.google.com/uc?id={file_id}', 'data_preprocessed_python/s01.dat', quiet=False)\n"
   ]
  },
  {
   "cell_type": "markdown",
   "id": "b356db2c",
   "metadata": {},
   "source": [
    "We load EEG data for subject 1 from the DEAP dataset using Python’s pickle module. The `'rb'` flag opens the file in binary read mode, and `'latin1'` encoding ensures compatibility with the original format."
   ]
  },
  {
   "cell_type": "code",
   "execution_count": 4,
   "id": "9cc8a442",
   "metadata": {},
   "outputs": [],
   "source": [
    "with open('data_preprocessed_python/s01.dat', 'rb') as file:    \n",
    "    subject_data = pickle.load(file, encoding='latin1')"
   ]
  },
  {
   "cell_type": "code",
   "execution_count": 5,
   "id": "ce5c1224",
   "metadata": {},
   "outputs": [
    {
     "data": {
      "text/plain": [
       "dict"
      ]
     },
     "execution_count": 5,
     "metadata": {},
     "output_type": "execute_result"
    }
   ],
   "source": [
    "type(subject_data)"
   ]
  },
  {
   "cell_type": "code",
   "execution_count": 6,
   "id": "3c77b2ec",
   "metadata": {},
   "outputs": [
    {
     "name": "stdout",
     "output_type": "stream",
     "text": [
      "dict_keys(['labels', 'data'])\n"
     ]
    }
   ],
   "source": [
    "print(subject_data.keys())"
   ]
  },
  {
   "cell_type": "code",
   "execution_count": 7,
   "id": "a0803c30",
   "metadata": {},
   "outputs": [
    {
     "name": "stdout",
     "output_type": "stream",
     "text": [
      "(40, 40, 8064)\n",
      "(40, 4)\n"
     ]
    }
   ],
   "source": [
    "print(subject_data['data'].shape)\n",
    "print(subject_data['labels'].shape)"
   ]
  },
  {
   "cell_type": "markdown",
   "id": "adfd3154",
   "metadata": {},
   "source": [
    "The dataset is a Python dictionary containing two keys: `labels` and `data`.\n",
    "\n",
    "`subject_data['data']` is an array of shape **40 x 40 x 8064** representing EEG and EOG data from 40 signal channels (32 EEG + 8 EOG). Each channel was sampled at 128 Hz over 60-second trials, resulting in 8064 time samples per trial. A total of 40 trials were recorded for this subject while watching 40 different videos.\n",
    "\n",
    "`subject_data['labels']` is an array of shape **40 x 4**, where each row corresponds to a trial (one video) and contains subjective emotional ratings given by the participant. The four dimensions are:\n",
    "\n",
    "- **valence** (*column 0*), \n",
    "- **arousal** (*column 1*), \n",
    "- **dominance** (*column 2*), and \n",
    "- **liking** (*column 3*). \n",
    "\n",
    "Emotional ratings were given on a **continuous scale from 1 to 9**, where higher values represent more positive valence, higher arousal, dominance, and liking.\n",
    "\n",
    "*(See the samples of the data below)*"
   ]
  },
  {
   "cell_type": "code",
   "execution_count": 8,
   "id": "49170c6a",
   "metadata": {},
   "outputs": [
    {
     "name": "stdout",
     "output_type": "stream",
     "text": [
      "[[ 9.48231681e-01  1.65333533e+00  3.01372577e+00 ... -2.82648937e+00\n",
      "  -4.47722969e+00 -3.67692812e+00]\n",
      " [ 1.24706590e-01  1.39008270e+00  1.83509881e+00 ... -2.98702069e+00\n",
      "  -6.28780884e+00 -4.47429041e+00]\n",
      " [-2.21651099e+00  2.29201682e+00  2.74636923e+00 ... -2.63707760e+00\n",
      "  -7.40651010e+00 -6.75590441e+00]\n",
      " ...\n",
      " [ 2.30779684e+02  6.96716323e+02  1.19512165e+03 ...  1.01080949e+03\n",
      "   1.28312149e+03  1.51996480e+03]\n",
      " [-1.54180981e+03 -1.61798052e+03 -1.69268642e+03 ... -1.57842691e+04\n",
      "  -1.57823160e+04 -1.57808512e+04]\n",
      " [ 6.39054310e-03  6.39054310e-03  6.39054310e-03 ... -9.76081241e-02\n",
      "  -9.76081241e-02 -9.76081241e-02]]\n"
     ]
    }
   ],
   "source": [
    "print(subject_data['data'][0])"
   ]
  },
  {
   "cell_type": "code",
   "execution_count": 9,
   "id": "bae1f9b4",
   "metadata": {},
   "outputs": [
    {
     "data": {
      "text/html": [
       "<div>\n",
       "<style scoped>\n",
       "    .dataframe tbody tr th:only-of-type {\n",
       "        vertical-align: middle;\n",
       "    }\n",
       "\n",
       "    .dataframe tbody tr th {\n",
       "        vertical-align: top;\n",
       "    }\n",
       "\n",
       "    .dataframe thead th {\n",
       "        text-align: right;\n",
       "    }\n",
       "</style>\n",
       "<table border=\"1\" class=\"dataframe\">\n",
       "  <thead>\n",
       "    <tr style=\"text-align: right;\">\n",
       "      <th></th>\n",
       "      <th>valence</th>\n",
       "      <th>arousal</th>\n",
       "      <th>dominance</th>\n",
       "      <th>liking</th>\n",
       "    </tr>\n",
       "  </thead>\n",
       "  <tbody>\n",
       "    <tr>\n",
       "      <th>0</th>\n",
       "      <td>1.29</td>\n",
       "      <td>1.40</td>\n",
       "      <td>6.90</td>\n",
       "      <td>7.83</td>\n",
       "    </tr>\n",
       "    <tr>\n",
       "      <th>1</th>\n",
       "      <td>0.90</td>\n",
       "      <td>1.69</td>\n",
       "      <td>7.28</td>\n",
       "      <td>8.47</td>\n",
       "    </tr>\n",
       "    <tr>\n",
       "      <th>2</th>\n",
       "      <td>0.42</td>\n",
       "      <td>1.46</td>\n",
       "      <td>9.00</td>\n",
       "      <td>7.08</td>\n",
       "    </tr>\n",
       "    <tr>\n",
       "      <th>3</th>\n",
       "      <td>4.94</td>\n",
       "      <td>6.01</td>\n",
       "      <td>6.12</td>\n",
       "      <td>8.06</td>\n",
       "    </tr>\n",
       "    <tr>\n",
       "      <th>4</th>\n",
       "      <td>6.96</td>\n",
       "      <td>3.92</td>\n",
       "      <td>7.19</td>\n",
       "      <td>6.05</td>\n",
       "    </tr>\n",
       "    <tr>\n",
       "      <th>5</th>\n",
       "      <td>8.27</td>\n",
       "      <td>3.92</td>\n",
       "      <td>7.00</td>\n",
       "      <td>8.03</td>\n",
       "    </tr>\n",
       "    <tr>\n",
       "      <th>6</th>\n",
       "      <td>7.44</td>\n",
       "      <td>3.73</td>\n",
       "      <td>7.08</td>\n",
       "      <td>7.04</td>\n",
       "    </tr>\n",
       "    <tr>\n",
       "      <th>7</th>\n",
       "      <td>7.32</td>\n",
       "      <td>2.55</td>\n",
       "      <td>6.32</td>\n",
       "      <td>5.87</td>\n",
       "    </tr>\n",
       "    <tr>\n",
       "      <th>8</th>\n",
       "      <td>4.04</td>\n",
       "      <td>3.29</td>\n",
       "      <td>3.62</td>\n",
       "      <td>5.99</td>\n",
       "    </tr>\n",
       "    <tr>\n",
       "      <th>9</th>\n",
       "      <td>1.99</td>\n",
       "      <td>4.86</td>\n",
       "      <td>2.04</td>\n",
       "      <td>7.09</td>\n",
       "    </tr>\n",
       "  </tbody>\n",
       "</table>\n",
       "</div>"
      ],
      "text/plain": [
       "   valence  arousal  dominance  liking\n",
       "0     1.29     1.40       6.90    7.83\n",
       "1     0.90     1.69       7.28    8.47\n",
       "2     0.42     1.46       9.00    7.08\n",
       "3     4.94     6.01       6.12    8.06\n",
       "4     6.96     3.92       7.19    6.05\n",
       "5     8.27     3.92       7.00    8.03\n",
       "6     7.44     3.73       7.08    7.04\n",
       "7     7.32     2.55       6.32    5.87\n",
       "8     4.04     3.29       3.62    5.99\n",
       "9     1.99     4.86       2.04    7.09"
      ]
     },
     "execution_count": 9,
     "metadata": {},
     "output_type": "execute_result"
    }
   ],
   "source": [
    "df_labels = pd.DataFrame(\n",
    "    subject_data['labels'], \n",
    "    columns=['valence', 'arousal', 'dominance', 'liking']\n",
    ")\n",
    "\n",
    "df_labels.head(10)"
   ]
  },
  {
   "cell_type": "markdown",
   "id": "ebaac0ae",
   "metadata": {},
   "source": [
    "## **3.2. Data visualization**"
   ]
  },
  {
   "cell_type": "markdown",
   "id": "e5abff31",
   "metadata": {},
   "source": [
    "To better understand the data, we will now visualize examples of raw EEG signals as well as the distribution of emotional ratings (valence, arousal, dominance, liking).\n",
    "This step helps to inspect the signal patterns over time and verify whether the labels show enough variability for training a classifier."
   ]
  },
  {
   "cell_type": "code",
   "execution_count": null,
   "id": "61fee294",
   "metadata": {},
   "outputs": [],
   "source": []
  }
 ],
 "metadata": {
  "kernelspec": {
   "display_name": "base",
   "language": "python",
   "name": "python3"
  },
  "language_info": {
   "codemirror_mode": {
    "name": "ipython",
    "version": 3
   },
   "file_extension": ".py",
   "mimetype": "text/x-python",
   "name": "python",
   "nbconvert_exporter": "python",
   "pygments_lexer": "ipython3",
   "version": "3.12.3"
  }
 },
 "nbformat": 4,
 "nbformat_minor": 5
}
